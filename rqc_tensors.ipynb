{
  "nbformat": 4,
  "nbformat_minor": 0,
  "metadata": {
    "colab": {
      "name": "rqc_tensors.ipynb",
      "provenance": [],
      "collapsed_sections": []
    },
    "kernelspec": {
      "name": "python3",
      "display_name": "Python 3"
    },
    "language_info": {
      "name": "python"
    }
  },
  "cells": [
    {
      "cell_type": "code",
      "execution_count": 2,
      "metadata": {
        "id": "IY8RRyOiv8dd"
      },
      "outputs": [],
      "source": [
        "import jax.numpy as jnp\n",
        "import numpy as np\n",
        "import unittest"
      ]
    },
    {
      "cell_type": "code",
      "source": [
        "class MPS:\n",
        "    def __init__(self, tensors):\n",
        "        self.components = tensors\n",
        "        self.rank = len(tensors)\n",
        "\n",
        "    def dot(self, rhs):               #scalar product function\n",
        "        if self.rank != rhs.rank:\n",
        "            return \"ranks do not match\"\n",
        "        result = jnp.tensordot(self.components[0], rhs.components[0], [[0], [0]])\n",
        "        for i in range(1, self.rank):\n",
        "           result = jnp.tensordot(result, self.components[i], [[0],[0]])\n",
        "           result = jnp.tensordot(result, rhs.components[i], [[0,1], [0,1]])\n",
        "        return result\n",
        "\n",
        "    def view(self):                  #prints shape and elements of the resulting tensor\n",
        "        result = self.components[0]\n",
        "        for i in range(1, self.rank):\n",
        "            result = jnp.tensordot(result, self.components[i], 1)\n",
        "        print(result.shape)\n",
        "        print(result)\n",
        "\n",
        "    def get_tensor(self):            #returns the resulting tensor\n",
        "        result = self.components[0]\n",
        "        for i in range(1, self.rank):\n",
        "            result = jnp.tensordot(result, self.components[i], 1)\n",
        "        return result\n",
        "\n"
      ],
      "metadata": {
        "id": "ONH4kyzTDGeS"
      },
      "execution_count": 3,
      "outputs": []
    },
    {
      "cell_type": "markdown",
      "source": [
        "A small test just for me:"
      ],
      "metadata": {
        "id": "_CMJueNT2u5y"
      }
    },
    {
      "cell_type": "code",
      "source": [
        "e = jnp.array([[1., 0],\n",
        "                [2,1]])\n",
        "m = MPS([e, e])\n",
        "print(m.dot(m))\n",
        "print(jnp.linalg.norm(m.get_tensor())**2)"
      ],
      "metadata": {
        "colab": {
          "base_uri": "https://localhost:8080/"
        },
        "id": "myDpSRhLImw4",
        "outputId": "d9f6cbd2-c143-46ad-ea24-696939292687"
      },
      "execution_count": 4,
      "outputs": [
        {
          "output_type": "stream",
          "name": "stderr",
          "text": [
            "WARNING:absl:No GPU/TPU found, falling back to CPU. (Set TF_CPP_MIN_LOG_LEVEL=0 and rerun for more info.)\n"
          ]
        },
        {
          "output_type": "stream",
          "name": "stdout",
          "text": [
            "18.0\n",
            "17.999998\n"
          ]
        }
      ]
    },
    {
      "cell_type": "code",
      "source": [
        "class Test(unittest.TestCase):\n",
        "    def test_dot(self):\n",
        "        self.max_dim = 6         #maximum dimension of any index\n",
        "\n",
        "        for rank in range (2, 6):\n",
        "\n",
        "            self.outer_dims = np.random.randint(2, self.max_dim, rank)          #visible dimensions of each tensor\n",
        "            self.inner_dims_a = np.random.randint(2, self.max_dim, rank-1)      #bond dimensions of tensor A\n",
        "            self.inner_dims_b = np.random.randint(2, self.max_dim, rank-1)\n",
        "\n",
        "            print(self.outer_dims, self.inner_dims_a, self.inner_dims_b)\n",
        "\n",
        "            self.comp_a = [np.random.randn(self.outer_dims[0], self.inner_dims_a[0])]  #filling the first components of mps\n",
        "            self.comp_b = [np.random.randn(self.outer_dims[0], self.inner_dims_b[0])]\n",
        "\n",
        "            for i in range (1, rank-1):\n",
        "            \n",
        "                self.comp_a.append(np.random.randn(self.inner_dims_a[i-1], self.outer_dims[i], self.inner_dims_a[i]))\n",
        "                self.comp_b.append(np.random.randn(self.inner_dims_b[i-1], self.outer_dims[i], self.inner_dims_b[i]))\n",
        "\n",
        "            self.comp_a.append(np.random.randn(self.inner_dims_a[-1], self.outer_dims[-1]))   #the last components of mps\n",
        "            self.comp_b.append(np.random.randn(self.inner_dims_b[-1], self.outer_dims[-1]))\n",
        "\n",
        "            self.a = MPS(self.comp_a)\n",
        "            self.b = MPS(self.comp_b)\n",
        "\n",
        "            result = self.a.dot(self.b)\n",
        "            expected = jnp.tensordot(self.a.get_tensor(), self.b.get_tensor(), rank)\n",
        "            \n",
        "            self.assertAlmostEqual(result, expected, places=2, msg=None, delta=None)\n",
        " "
      ],
      "metadata": {
        "id": "mRIYtZCXBuUa"
      },
      "execution_count": 11,
      "outputs": []
    },
    {
      "cell_type": "code",
      "source": [
        "unittest.main(argv=[''], verbosity=2, exit=False)"
      ],
      "metadata": {
        "colab": {
          "base_uri": "https://localhost:8080/"
        },
        "id": "F6NS3t6cKyfj",
        "outputId": "410f7b39-1830-41f9-f995-b3c98ce4fb5b"
      },
      "execution_count": 12,
      "outputs": [
        {
          "output_type": "stream",
          "name": "stderr",
          "text": [
            "test_dot (__main__.Test) ... "
          ]
        },
        {
          "output_type": "stream",
          "name": "stdout",
          "text": [
            "[2 2] [5] [4]\n",
            "[3 5 5] [3 2] [4 4]\n",
            "[2 5 5 4] [4 4 5] [3 2 2]\n",
            "[4 2 5 5 5] [5 5 3 4] [5 4 2 5]\n"
          ]
        },
        {
          "output_type": "stream",
          "name": "stderr",
          "text": [
            "ok\n",
            "\n",
            "----------------------------------------------------------------------\n",
            "Ran 1 test in 0.827s\n",
            "\n",
            "OK\n"
          ]
        },
        {
          "output_type": "execute_result",
          "data": {
            "text/plain": [
              "<unittest.main.TestProgram at 0x7f5cddf48210>"
            ]
          },
          "metadata": {},
          "execution_count": 12
        }
      ]
    },
    {
      "cell_type": "code",
      "source": [
        ""
      ],
      "metadata": {
        "id": "RBr80xJh4XP7"
      },
      "execution_count": null,
      "outputs": []
    }
  ]
}